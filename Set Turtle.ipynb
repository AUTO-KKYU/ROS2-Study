{
 "cells": [
  {
   "cell_type": "code",
   "execution_count": 3,
   "id": "d8a4b84c",
   "metadata": {},
   "outputs": [
    {
     "data": {
      "text/plain": [
       "119.99999999999999"
      ]
     },
     "execution_count": 3,
     "metadata": {},
     "output_type": "execute_result"
    }
   ],
   "source": [
    "import numpy as np \n",
    "\n",
    "n = 3\n",
    "\n",
    "to_degree = 180/np.pi \n",
    "\n",
    "gap_theta = 2*np.pi / n \n",
    "gap_theta *to_degree"
   ]
  },
  {
   "cell_type": "code",
   "execution_count": 4,
   "id": "c56b78c4",
   "metadata": {},
   "outputs": [
    {
     "data": {
      "text/plain": [
       "[0.0, 119.99999999999999, 239.99999999999997]"
      ]
     },
     "execution_count": 4,
     "metadata": {},
     "output_type": "execute_result"
    }
   ],
   "source": [
    "theta = [gap_theta * n for n in range(n)]\n",
    "[each * to_degree for each in theta]"
   ]
  },
  {
   "cell_type": "code",
   "execution_count": 5,
   "id": "cc243981",
   "metadata": {},
   "outputs": [],
   "source": [
    "r = 3\n",
    "\n",
    "x = [r*np.cos(th) for th in theta]\n",
    "y = [r*np.sin(th) for th in theta]"
   ]
  },
  {
   "cell_type": "code",
   "execution_count": 6,
   "id": "49d6b9aa",
   "metadata": {},
   "outputs": [
    {
     "data": {
      "text/plain": [
       "[3.0, -1.4999999999999993, -1.5000000000000013]"
      ]
     },
     "execution_count": 6,
     "metadata": {},
     "output_type": "execute_result"
    }
   ],
   "source": [
    "x"
   ]
  },
  {
   "cell_type": "code",
   "execution_count": 7,
   "id": "7dda6c4f",
   "metadata": {},
   "outputs": [
    {
     "data": {
      "text/plain": [
       "[0.0, 2.598076211353316, -2.598076211353315]"
      ]
     },
     "execution_count": 7,
     "metadata": {},
     "output_type": "execute_result"
    }
   ],
   "source": [
    "y"
   ]
  },
  {
   "cell_type": "code",
   "execution_count": 8,
   "id": "e37ee682",
   "metadata": {},
   "outputs": [
    {
     "data": {
      "image/png": "[encoded data removed]",
      "text/plain": [
       "<Figure size 432x288 with 1 Axes>"
      ]
     },
     "metadata": {
      "needs_background": "light"
     },
     "output_type": "display_data"
    }
   ],
   "source": [
    "import matplotlib.pyplot as plt \n",
    "\n",
    "plt.scatter(x, y)\n",
    "plt.axis('equal')\n",
    "plt.show()"
   ]
  },
  {
   "cell_type": "code",
   "execution_count": 9,
   "id": "3de166ce",
   "metadata": {},
   "outputs": [],
   "source": [
    "def calc_position(n, r):\n",
    "    gap_theta = 2 * np.pi / n \n",
    "    theta = [gap_theta * n for n in range(n)]\n",
    "    x = [r * np.cos(th) for th in theta]\n",
    "    y = [r * np.sin(th) for th in theta]\n",
    "    \n",
    "    return x, y, theta"
   ]
  },
  {
   "cell_type": "code",
   "execution_count": 11,
   "id": "a46fedfa",
   "metadata": {},
   "outputs": [],
   "source": [
    "def draw_pos(x, y):\n",
    "    plt.scatter(x, y)\n",
    "    plt.axis('equal')\n",
    "    plt.show()"
   ]
  },
  {
   "cell_type": "code",
   "execution_count": 12,
   "id": "e6bfb5de",
   "metadata": {},
   "outputs": [
    {
     "data": {
      "image/png": "[encoded data removed]",
      "text/plain": [
       "<Figure size 432x288 with 1 Axes>"
      ]
     },
     "metadata": {
      "needs_background": "light"
     },
     "output_type": "display_data"
    }
   ],
   "source": [
    "X, Y, theta = calc_position(4, 3)\n",
    "draw_pos(X, Y)"
   ]
  },
  {
   "cell_type": "code",
   "execution_count": 13,
   "id": "b2033bca",
   "metadata": {},
   "outputs": [
    {
     "data": {
      "image/png": "[encoded data removed]",
      "text/plain": [
       "<Figure size 432x288 with 1 Axes>"
      ]
     },
     "metadata": {
      "needs_background": "light"
     },
     "output_type": "display_data"
    }
   ],
   "source": [
    "X, Y, theta = calc_position(15, 3)\n",
    "draw_pos(X, Y)"
   ]
  },
  {
   "cell_type": "code",
   "execution_count": null,
   "id": "32603d22",
   "metadata": {},
   "outputs": [],
   "source": []
  }
 ],
 "metadata": {
  "kernelspec": {
   "display_name": "Python 3 (ipykernel)",
   "language": "python",
   "name": "python3"
  },
  "language_info": {
   "codemirror_mode": {
    "name": "ipython",
    "version": 3
   },
   "file_extension": ".py",
   "mimetype": "text/x-python",
   "name": "python",
   "nbconvert_exporter": "python",
   "pygments_lexer": "ipython3",
   "version": "3.10.12"
  }
 },
 "nbformat": 4,
 "nbformat_minor": 5
}
