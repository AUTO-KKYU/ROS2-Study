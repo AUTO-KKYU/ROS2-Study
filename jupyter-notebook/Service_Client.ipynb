{
 "cells": [
  {
   "cell_type": "code",
   "execution_count": 2,
   "id": "1237f0e4",
   "metadata": {},
   "outputs": [],
   "source": [
    "# Client_test 노드 만들기\n",
    "\n",
    "import rclpy as rp \n",
    "from turtlesim.srv import TeleportAbsolute \n",
    "\n",
    "rp.init()\n",
    "test_node = rp.create_node('client_test')"
   ]
  },
  {
   "cell_type": "code",
   "execution_count": 3,
   "id": "c774003d",
   "metadata": {},
   "outputs": [],
   "source": [
    "service_name = '/turtle1/teleport_absolute'\n",
    "cli = test_node.create_client(TeleportAbsolute, service_name)"
   ]
  },
  {
   "cell_type": "code",
   "execution_count": 4,
   "id": "cd4d0396",
   "metadata": {},
   "outputs": [
    {
     "data": {
      "text/plain": [
       "turtlesim.srv.TeleportAbsolute_Request(x=0.0, y=0.0, theta=0.0)"
      ]
     },
     "execution_count": 4,
     "metadata": {},
     "output_type": "execute_result"
    }
   ],
   "source": [
    "req = TeleportAbsolute.Request()\n",
    "req"
   ]
  },
  {
   "cell_type": "code",
   "execution_count": 5,
   "id": "9b43b6aa",
   "metadata": {},
   "outputs": [
    {
     "data": {
      "text/plain": [
       "turtlesim.srv.TeleportAbsolute_Request(x=1.0, y=1.0, theta=3.14)"
      ]
     },
     "execution_count": 5,
     "metadata": {},
     "output_type": "execute_result"
    }
   ],
   "source": [
    "req.x = 1.\n",
    "req.y = 1.\n",
    "req.theta = 3.14\n",
    "\n",
    "req"
   ]
  },
  {
   "cell_type": "code",
   "execution_count": 6,
   "id": "b61aac13",
   "metadata": {},
   "outputs": [],
   "source": [
    "req.x = 3.\n",
    "\n",
    "cli.call_async(req)\n",
    "rp.spin_once(test_node)"
   ]
  },
  {
   "cell_type": "code",
   "execution_count": 7,
   "id": "bae45444",
   "metadata": {},
   "outputs": [],
   "source": [
    "# wait for service\n",
    "\n",
    "req.y = float(9)\n",
    "\n",
    "while not cli.wait_for_service(timeout_sec=1.0):\n",
    "    print(\"waiting for service\")\n",
    "    \n",
    "cli.call_async(req)\n",
    "rp.spin_once(test_node)"
   ]
  },
  {
   "cell_type": "code",
   "execution_count": 8,
   "id": "d3154858",
   "metadata": {},
   "outputs": [
    {
     "name": "stdout",
     "output_type": "stream",
     "text": [
      "False None\n",
      "False None\n",
      "True turtlesim.srv.TeleportAbsolute_Response()\n"
     ]
    }
   ],
   "source": [
    "# 서비스가 실행되는 결과 받아오기\n",
    "\n",
    "req.x = float(9)\n",
    "\n",
    "future = cli.call_async(req)\n",
    "\n",
    "while not future.done():\n",
    "    rp.spin_once(test_node)\n",
    "    print(future.done(), future.result())"
   ]
  },
  {
   "cell_type": "code",
   "execution_count": 1,
   "id": "103f2fb8",
   "metadata": {},
   "outputs": [],
   "source": [
    "import rclpy as rp\n",
    "from turtlesim.srv import TeleportAbsolute\n",
    "import math\n",
    "import time\n",
    "\n",
    "def teleport_turtle(node, x, y, theta):\n",
    "    service_name = '/turtle1/teleport_absolute'\n",
    "    cli = node.create_client(TeleportAbsolute, service_name)\n",
    "\n",
    "    req = TeleportAbsolute.Request()\n",
    "    req.x = x\n",
    "    req.y = y\n",
    "    req.theta = theta\n",
    "\n",
    "    cli.call_async(req)\n",
    "    rp.spin_once(node)\n",
    "    time.sleep(0.5) \n",
    "\n",
    "def draw_star():\n",
    "    rp.init()\n",
    "    test_node = rp.create_node('client_test')\n",
    "\n",
    "    # 오각별의 각도를 계산\n",
    "    angle_increment = 2 * math.pi / 5\n",
    "\n",
    "    # 오각별의 중심 좌표\n",
    "    center_x = 5.5 + 0.5 * math.cos(72)\n",
    "    center_y = 5.5 + 0.5 * math.sin(72)\n",
    "\n",
    "    # 각 꼭짓점의 좌표를 계산하고 이동시킴\n",
    "    for i in range(5):\n",
    "        angle = i * angle_increment\n",
    "        x = center_x + 1.5 * math.cos(angle)\n",
    "        y = center_y + 1.5 * math.sin(angle)\n",
    "\n",
    "        # 터틀을 각 꼭짓점으로 이동시킴\n",
    "        teleport_turtle(test_node, x, y, angle)\n",
    "\n",
    "        # 다음 꼭짓점으로 이동하기 위해 약간의 각도를 추가\n",
    "        angle += angle_increment\n",
    "\n",
    "        # 내부 꼭짓점으로 이동함\n",
    "        x = center_x + 0.5 * math.cos(angle)\n",
    "        y = center_y + 0.5 * math.sin(angle)\n",
    "\n",
    "        # 터틀을 내부 꼭짓점으로 이동시킴\n",
    "        teleport_turtle(test_node, x, y, angle)\n",
    "\n",
    "    rp.shutdown()\n",
    "    \n",
    "\n",
    "if __name__ == '__main__':\n",
    "    draw_star()\n"
   ]
  },
  {
   "cell_type": "code",
   "execution_count": null,
   "id": "a572a60d",
   "metadata": {},
   "outputs": [],
   "source": [
    "# 서비스 멈추기\n",
    "# ros2 service type /reset\n",
    "# turtlesim 움직임 reset\n",
    "# ros2 service call /reset std_srvs/srv/Empty {} "
   ]
  },
  {
   "cell_type": "code",
   "execution_count": null,
   "id": "c020a549",
   "metadata": {},
   "outputs": [],
   "source": []
  }
 ],
 "metadata": {
  "kernelspec": {
   "display_name": "Python 3 (ipykernel)",
   "language": "python",
   "name": "python3"
  },
  "language_info": {
   "codemirror_mode": {
    "name": "ipython",
    "version": 3
   },
   "file_extension": ".py",
   "mimetype": "text/x-python",
   "name": "python",
   "nbconvert_exporter": "python",
   "pygments_lexer": "ipython3",
   "version": "3.10.12"
  }
 },
 "nbformat": 4,
 "nbformat_minor": 5
}
