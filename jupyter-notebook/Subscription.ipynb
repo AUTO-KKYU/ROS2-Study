{
 "cells": [
  {
   "cell_type": "code",
   "execution_count": 1,
   "id": "e2fd50bb",
   "metadata": {},
   "outputs": [],
   "source": [
    "import rclpy as rp \n",
    "from turtlesim.msg import Pose "
   ]
  },
  {
   "cell_type": "code",
   "execution_count": 2,
   "id": "ce579a2c",
   "metadata": {},
   "outputs": [],
   "source": [
    "rp.init() # 최초 1번,, 연속 실행 시, 누적됨\n",
    "test_node = rp.create_node(\"sub_test\")"
   ]
  },
  {
   "cell_type": "code",
   "execution_count": 3,
   "id": "1aba5048",
   "metadata": {},
   "outputs": [],
   "source": [
    "def callback(data):\n",
    "    print(\"---->\")\n",
    "    print(\"/turtle1/pose : \", data)\n",
    "    print(\"X : \", data.x)\n",
    "    print(\"Y : \", data.y)\n",
    "    print(\"Theta : \", data.theta)"
   ]
  },
  {
   "cell_type": "code",
   "execution_count": 4,
   "id": "c7580594",
   "metadata": {},
   "outputs": [
    {
     "data": {
      "text/plain": [
       "<rclpy.subscription.Subscription at 0x7f8e0d5ab640>"
      ]
     },
     "execution_count": 4,
     "metadata": {},
     "output_type": "execute_result"
    }
   ],
   "source": [
    "test_node.create_subscription(Pose, '/turtle1/pose', callback, 10)"
   ]
  },
  {
   "cell_type": "code",
   "execution_count": 5,
   "id": "90edcc34",
   "metadata": {},
   "outputs": [
    {
     "name": "stdout",
     "output_type": "stream",
     "text": [
      "---->\n",
      "/turtle1/pose :  turtlesim.msg.Pose(x=5.544444561004639, y=5.544444561004639, theta=0.0, linear_velocity=0.0, angular_velocity=0.0)\n",
      "X :  5.544444561004639\n",
      "Y :  5.544444561004639\n",
      "Theta :  0.0\n"
     ]
    }
   ],
   "source": [
    "rp.spin_once(test_node)"
   ]
  },
  {
   "cell_type": "code",
   "execution_count": 6,
   "id": "74ab0467",
   "metadata": {},
   "outputs": [],
   "source": [
    "#----------------------#"
   ]
  },
  {
   "cell_type": "code",
   "execution_count": 8,
   "id": "34c0e3aa",
   "metadata": {},
   "outputs": [],
   "source": [
    "cnt = 0\n",
    "def callback(data):\n",
    "    global cnt\n",
    "    cnt += 1\n",
    "    print(\">\", cnt, \" -> X : \", data.x, \", Y : \", data.y)\n",
    "    if cnt > 3:\n",
    "        raise Exception(\"Subscription Stop\")"
   ]
  },
  {
   "cell_type": "code",
   "execution_count": 11,
   "id": "2859eacd",
   "metadata": {},
   "outputs": [
    {
     "data": {
      "text/plain": [
       "<rclpy.subscription.Subscription at 0x7f8e0410b520>"
      ]
     },
     "execution_count": 11,
     "metadata": {},
     "output_type": "execute_result"
    }
   ],
   "source": [
    "test_node.create_subscription(Pose, '/turtle1/pose', callback, 10)"
   ]
  },
  {
   "cell_type": "code",
   "execution_count": 12,
   "id": "2d4910c1",
   "metadata": {},
   "outputs": [
    {
     "data": {
      "text/plain": [
       "<rclpy.subscription.Subscription at 0x7f8e0410b250>"
      ]
     },
     "execution_count": 12,
     "metadata": {},
     "output_type": "execute_result"
    }
   ],
   "source": [
    "test_node.create_subscription(Pose, '/turtle1/pose', callback, 10)"
   ]
  },
  {
   "cell_type": "code",
   "execution_count": 13,
   "id": "04f9d4a8",
   "metadata": {},
   "outputs": [
    {
     "name": "stdout",
     "output_type": "stream",
     "text": [
      "---->\n",
      "/turtle1/pose :  turtlesim.msg.Pose(x=5.544444561004639, y=5.544444561004639, theta=0.0, linear_velocity=0.0, angular_velocity=0.0)\n",
      "X :  5.544444561004639\n",
      "Y :  5.544444561004639\n",
      "Theta :  0.0\n"
     ]
    }
   ],
   "source": [
    "rp.spin_once(test_node)"
   ]
  },
  {
   "cell_type": "code",
   "execution_count": null,
   "id": "2cf79c5b",
   "metadata": {},
   "outputs": [],
   "source": []
  }
 ],
 "metadata": {
  "kernelspec": {
   "display_name": "Python 3 (ipykernel)",
   "language": "python",
   "name": "python3"
  },
  "language_info": {
   "codemirror_mode": {
    "name": "ipython",
    "version": 3
   },
   "file_extension": ".py",
   "mimetype": "text/x-python",
   "name": "python",
   "nbconvert_exporter": "python",
   "pygments_lexer": "ipython3",
   "version": "3.10.12"
  }
 },
 "nbformat": 4,
 "nbformat_minor": 5
}
